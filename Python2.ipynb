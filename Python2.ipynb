{
 "cells": [
  {
   "cell_type": "code",
   "execution_count": 16,
   "id": "bb203611-cd3d-42c7-a290-1121888094d6",
   "metadata": {},
   "outputs": [
    {
     "name": "stdout",
     "output_type": "stream",
     "text": [
      "k __ Manisha\n",
      "a __ anusha\n",
      "m __ mohammad\n"
     ]
    }
   ],
   "source": [
    "dic={ \"k\":\"Manisha\", \"a\":\"anusha\", \"m\":\"mohammad\"}\n",
    "for i in dic:\n",
    "    print(i,\"__\",dic[i])\n"
   ]
  },
  {
   "cell_type": "code",
   "execution_count": null,
   "id": "b1526cff-8d55-410b-9ad5-0cc7efcd4f3f",
   "metadata": {},
   "outputs": [],
   "source": []
  }
 ],
 "metadata": {
  "kernelspec": {
   "display_name": "Python 3 (ipykernel)",
   "language": "python",
   "name": "python3"
  },
  "language_info": {
   "codemirror_mode": {
    "name": "ipython",
    "version": 3
   },
   "file_extension": ".py",
   "mimetype": "text/x-python",
   "name": "python",
   "nbconvert_exporter": "python",
   "pygments_lexer": "ipython3",
   "version": "3.12.4"
  }
 },
 "nbformat": 4,
 "nbformat_minor": 5
}
